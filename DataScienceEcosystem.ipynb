{
 "cells": [
  {
   "cell_type": "markdown",
   "id": "a9f0ed1c-5e80-45cc-ab5a-b1e2e0cb905a",
   "metadata": {},
   "source": [
    "# Data Science Tools and Echosystem"
   ]
  },
  {
   "cell_type": "markdown",
   "id": "ebbc6421-9039-488c-8745-328ac5f004af",
   "metadata": {},
   "source": [
    "#### In this notebook, Data Science Tools and Ecosystem are summarized.\r\n"
   ]
  },
  {
   "cell_type": "markdown",
   "id": "60d55d58-8052-48b2-a334-96bdc9c2428c",
   "metadata": {},
   "source": [
    "**Objectives:**\r\n",
    "\r\n",
    "- List popular languages for Data Science.\r\n",
    "- Highlight commonly used libraries in data science.\r\n",
    "- Introduce key open source data science tools.\r\n",
    "- Provide examples of evaluating arithmetic expressions in Python.\r\n",
    "- Demonstrate basic mathematical operations for data manipulation."
   ]
  },
  {
   "cell_type": "markdown",
   "id": "2aed5204-8056-4334-a0b9-e6aea0f3ec46",
   "metadata": {},
   "source": [
    "Some of the popular languages that Data Scientists use are:\n",
    "\n",
    "1. Python \n",
    "2. R \n",
    "3. SQL \n",
    "4. JAVA \n",
    "5. Julia \n",
    "6. Scala"
   ]
  },
  {
   "cell_type": "markdown",
   "id": "17f5d5a1-89c9-45b0-bf79-df981e6e9abb",
   "metadata": {},
   "source": [
    "Some of the commonly used libraries used by Data Scientists include:\r\n",
    "\r\n",
    "1. NumPy\r\n",
    "2. Pandas\r\n",
    "3. Scikit-learn\r\n",
    "4. Matplotlib\r\n",
    "5. Seaborn\r\n",
    "6. TensorFlow\r\n",
    "7. Keras\r\n",
    "8. PyTorch\r\n",
    "9. SQLAlchemy\r\n",
    "10. spaCy\r\n",
    "11. StatsModels\r\n",
    "12. Plotly\r\n",
    "\r\n"
   ]
  },
  {
   "cell_type": "markdown",
   "id": "c3d8c706-28ed-4596-a17d-766182462988",
   "metadata": {},
   "source": [
    "| Data Science Tools |\r\n",
    "| ------------------ |\r\n",
    "| Jupyter Notebooks  |\r\n",
    "| Spyder             |\r\n",
    "| Pytorch            |\r\n",
    "| TensorFlow         |\r\n",
    "| Apache Spark       |\r\n"
   ]
  },
  {
   "cell_type": "markdown",
   "id": "f82ba708-8228-4ca1-8473-77d1b70d21d3",
   "metadata": {},
   "source": [
    "### Below are a few examples of evaluating arithmetic expressions in Python.\r\n"
   ]
  },
  {
   "cell_type": "code",
   "execution_count": 1,
   "id": "33e80dd9-3981-40c0-9e2c-cb99829cbe5b",
   "metadata": {},
   "outputs": [
    {
     "data": {
      "text/plain": [
       "17"
      ]
     },
     "execution_count": 1,
     "metadata": {},
     "output_type": "execute_result"
    }
   ],
   "source": [
    "(3*4)+5"
   ]
  },
  {
   "cell_type": "code",
   "execution_count": 2,
   "id": "d98645bf-57bd-4b9e-991d-74aa8984d398",
   "metadata": {},
   "outputs": [
    {
     "data": {
      "text/plain": [
       "3.3333333333333335"
      ]
     },
     "execution_count": 2,
     "metadata": {},
     "output_type": "execute_result"
    }
   ],
   "source": [
    "# Convert 200 minutes to hours\n",
    "minutes = 200\n",
    "hours = minutes / 60\n",
    "hours\n"
   ]
  },
  {
   "cell_type": "markdown",
   "id": "df13b511-5aa4-4d3d-91ff-49f219adebd6",
   "metadata": {},
   "source": [
    "## Author\n",
    "Mrinal Mukherjee"
   ]
  }
 ],
 "metadata": {
  "kernelspec": {
   "display_name": "Python 3 (ipykernel)",
   "language": "python",
   "name": "python3"
  },
  "language_info": {
   "codemirror_mode": {
    "name": "ipython",
    "version": 3
   },
   "file_extension": ".py",
   "mimetype": "text/x-python",
   "name": "python",
   "nbconvert_exporter": "python",
   "pygments_lexer": "ipython3",
   "version": "3.11.5"
  }
 },
 "nbformat": 4,
 "nbformat_minor": 5
}
